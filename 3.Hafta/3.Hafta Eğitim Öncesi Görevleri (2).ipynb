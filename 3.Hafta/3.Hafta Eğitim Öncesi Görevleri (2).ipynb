{
  "cells": [
    {
      "cell_type": "markdown",
      "metadata": {
        "id": "tsD4YVAe_Te2"
      },
      "source": [
        "# Problem 1\n",
        "Bir sayının 7'ye bölünebilir olup olmadığını kontrol etmek \n",
        "için bir program yazın.\n",
        "\n",
        "İpucu: Mod operatörünü (%) kullanabilirsiniz."
      ]
    },
    {
      "cell_type": "code",
      "execution_count": 5,
      "metadata": {
        "id": "NGjvNwKx_Te7"
      },
      "outputs": [
        {
          "name": "stdout",
          "output_type": "stream",
          "text": [
            "7 sayisi 7'ye bolunebiliyor.\n"
          ]
        }
      ],
      "source": [
        "# 1.Problemin Çözümünü Buraya Yazınız\n",
        "\n",
        "x = int(input(\"Bir sayi giriniz\"))\n",
        "\n",
        "if x % 7 == 0:\n",
        "    print(f\"{x} sayisi 7'ye bolunebiliyor.\")\n",
        "else : \n",
        "    print(f\"{x} sayisi 7'ye bolunemiyor.\")"
      ]
    },
    {
      "cell_type": "markdown",
      "metadata": {
        "id": "Kg3qiBAI_Te8"
      },
      "source": [
        "# Problem 2\n",
        "Kullanıcıdan vize ve final notu isteyin. Girilen vize notunun %40’ı ve \n",
        "girilen finalnotunun ise %60’ı alınarak yıl sonu not ortalaması hesaplanacaktır. \n",
        "\n",
        "Bu not ortalaması eğer 85 ve üzeri ise AA, \n",
        "\n",
        "75 ve 85 arasında ise BA, \n",
        "\n",
        "70 ve 75 arasında ise BB, \n",
        "\n",
        "65 ve 70 arasında ise CB,\n",
        "\n",
        "60 ve 65 arasında ise CC,\n",
        "\n",
        "55 ve 60 arasında ise DC,\n",
        "\n",
        "50 ve 55 arasında ise DD olarak hesaplanacaktır. \n",
        "\n",
        "Bu öğrencinin yıl sonu toplam notu 50’nin altında ise FF ile dersten kalacaktır. \n",
        "\n",
        "Ayrıca öğrencinin final notu 50’nin altında ise direkt FF ile kalacaktır."
      ]
    },
    {
      "cell_type": "code",
      "execution_count": 33,
      "metadata": {
        "id": "MXTtCxI1_Te8"
      },
      "outputs": [
        {
          "name": "stdout",
          "output_type": "stream",
          "text": [
            "100.0 Ortalama Yaparak AA İle Dersten Gectiniz.\n"
          ]
        }
      ],
      "source": [
        "# 2.Problemin Çözümünü Buraya Yazınız\n",
        "\n",
        "vizenotu = int(input(\"Vize Notunuz Giriniz.\"))\n",
        "finalnotu = int(input(\"Final Notunu Giriniz.\"))\n",
        "\n",
        "vizenotu = 0.40*vizenotu\n",
        "finalnotu = 0.60*finalnotu\n",
        "ortalama = vizenotu + finalnotu \n",
        "\n",
        "if ( vizenotu + finalnotu ) >= 85 :\n",
        "    print(f\"{ortalama} Ortalama Yaparak AA İle Dersten Gectiniz.\")\n",
        "elif ( vizenotu + finalnotu ) >= 75 and ( vizenotu + finalnotu )  < 85 :\n",
        "    print(f\"{ortalama} Ortalama Yaparak BA İle Dersten Gectiniz.\")\n",
        "elif ( vizenotu + finalnotu ) >= 70 and ( vizenotu + finalnotu )  < 75 :\n",
        "    print(f\"{ortalama} Ortalama Yaparak BB İle Dersten Gectiniz.\")\n",
        "elif ( vizenotu + finalnotu )  >= 65 and ( vizenotu + finalnotu )  < 70 :\n",
        "    print(f\"{ortalama} Ortalama Yaparak CB İle Dersten Gectiniz.\")\n",
        "elif ( vizenotu + finalnotu ) >= 60 and ( vizenotu + finalnotu )  < 65 :\n",
        "    print(f\"{ortalama} Ortalama Yaparak CC İle Dersten Gectiniz.\")\n",
        "elif ( vizenotu + finalnotu ) >= 55 and ( vizenotu + finalnotu ) < 60 :\n",
        "    print(f\"{ortalama} Ortalama Yaparak DC İle Dersten Gectiniz.\")\n",
        "elif ( vizenotu + finalnotu ) >= 50 and ( vizenotu + finalnotu ) < 55 :\n",
        "    print(f\"{ortalama} Ortalama Yaparak DD İle Dersten Gectiniz.\") \n",
        "else :\n",
        "    print(f\"{ortalama} Ortalama Yaparak FF İle Maalesef Dersten Kaldınız.\")"
      ]
    },
    {
      "cell_type": "markdown",
      "metadata": {
        "id": "tAoRYCTC_Te8"
      },
      "source": [
        "# Problem 3\n",
        "İki YetGenli Zirve'de karşılaşıyorlar. Birbirlerini tanımak için sorular soruyorlar. Birbirlerine yaşlarını soruyorlar. Akıllarına bir Python programı yazıp, yaşlarını ve isimlerini giriyorlar. Büyük olanın yaşını ekrana yazdıran programı yazıyorlar. Sende bu iki YetGenli'ye destek olmak ister misin?\n",
        "\n",
        "```\n",
        "Birinci YetGenlinin ismi: Ahmet\n",
        "Birinci YetGenlinin yaşı : 20\n",
        "İkinci YetGenlinin ismi: Mehmet\n",
        "İkinci YetGenlinin yaşı : 25\n",
        "Mehmet'in yaşı daha büyük ve yaşı 25'tir.\n",
        "```"
      ]
    },
    {
      "cell_type": "code",
      "execution_count": 37,
      "metadata": {
        "id": "bPjE8W0i_Te8"
      },
      "outputs": [
        {
          "name": "stdout",
          "output_type": "stream",
          "text": [
            "Mehmet Ali'den büyüktür ve yasi 20'dir \n"
          ]
        }
      ],
      "source": [
        "# 3.Problemin Çözümünü Buraya Yazınız\n",
        "\n",
        "isim1 = input(\"Lutfen ilk YetGen'linin ismini giriniz.\")\n",
        "yas1 = int(input(\"Lutfen ilk YetGen'linin yasini giriniz.\"))\n",
        "isim2 = input(\"Lutfen ikinci YetGen'linin ismini giriniz.\")\n",
        "yas2 = int(input(\"Lutfen ikinci YetGen'linin yasini giriniz.\"))\n",
        "\n",
        "if yas1 > yas2 :\n",
        "    print(f\"{isim1} {isim2}'den büyüktür ve yasi {yas1}'dir \")\n",
        "elif yas2 > yas1 :\n",
        "    print(f\"{isim2} {isim1}'den büyüktür ve yasi {yas2}'dir \")\n",
        "else :\n",
        "    print(f\"{isim1} ve {isim2} {yas1} yasindadirlar.\")\n"
      ]
    },
    {
      "cell_type": "markdown",
      "metadata": {
        "id": "zBVv8Tyg_Te9"
      },
      "source": [
        "# Problem 4\n",
        "Pandemi döneminde AVM'lerde ateş ölçümü yapılıyor. AVM'ye giren kişinin ateş ölçümü 37.5 derecenin altında ise girişe izin veriliyor. 37.5 derecenin üstünde ise girişe izin verilmiyor. AVM'ye girişe izin verilip verilmediğini ekrana yazdıran bir program yazın.\n",
        "\n",
        "Program sonunda şöyle bir çıktı elde etmelisiniz:\n",
        "\n",
        "```\n",
        "Ateşiniz 37.5 derece. AVM'ye girebilirsin! Maske takmayı unutma!\n",
        "Ateşiniz 37.6 derece. AVM'ye giremezsin! Hemen evine dön!\n",
        "```"
      ]
    },
    {
      "cell_type": "code",
      "execution_count": 47,
      "metadata": {
        "id": "TSAXs8et_Te9"
      },
      "outputs": [
        {
          "name": "stdout",
          "output_type": "stream",
          "text": [
            "Atesiniz 36.0 derece. Avm'ye girebilirsin! Maske takmayı unutma!\n"
          ]
        }
      ],
      "source": [
        "# 4.Problemin Çözümünü Buraya Yazınız\n",
        "ates = float(input(\"Atesinizi ölcün lütfen.\"))\n",
        "\n",
        "if ates >= (37.5):\n",
        "    print(f\"Atesiniz {ates} derece. Avm'ye giremezsin! Hemen evine dön!\")\n",
        "else:\n",
        "    print(f\"Atesiniz {ates} derece. Avm'ye girebilirsin! Maske takmayı unutma!\")"
      ]
    },
    {
      "cell_type": "markdown",
      "metadata": {
        "id": "6AEkZrDt_Te9"
      },
      "source": [
        "# Problem 5\n",
        "YetGen bir spor kulübüyle sponsorluk anlaşması yapıyor. Kulüp, sponsorluk anlaşmasına göre her YetGen liderinin beden kitle indeksini hesaplamak istiyor. Spor kulübü, beden kitle indeksini hesaplamak için YetGen Jump Python liderlerinden Berkcan ve Ahmet'i arıyor. Berkcan ve Ahmet, kulübe yardımcı olmak için bir Python programı yazıyorlar. Sende bu iki YetGen liderine destek olmak ister misin?\n",
        "\n",
        "Kullanıcıdan alınan boy ve kilo değerlerine göre beden kitle indeksini hesaplayın ve şu kurallara göre ekrana şu yazıları yazdırın.\n",
        "\n",
        "\n",
        "Beden Kitle İndeksi, kişinin ağırlığının (kg olarak) boyunun karesine (m olarak) bölünmesiyle hesaplanır.\n",
        "\n",
        "\n",
        "```\n",
        " BKİ 18.5'un altındaysa -------> Zayıf\n",
        "\n",
        " BKİ 18.5 ile 25 arasındaysa ------> Normal\n",
        "\n",
        " BKİ 25 ile 30 arasındaysa --------> Fazla Kilolu\n",
        "\n",
        " BKİ 30'un üstündeyse -------------> Obez\n",
        "```\n",
        "\n"
      ]
    },
    {
      "cell_type": "code",
      "execution_count": 51,
      "metadata": {
        "id": "t-XPI_u0_Te-"
      },
      "outputs": [
        {
          "name": "stdout",
          "output_type": "stream",
          "text": [
            "20.675984513434024 Normal.\n"
          ]
        }
      ],
      "source": [
        "# 5.Problemin Çözümünü Buraya Yazınız\n",
        "\n",
        "boy = float(input(\"Boyunuzu giriniz\"))\n",
        "agirlik = float(input(\"Kilonuzu giriniz.\"))\n",
        "\n",
        "BKI = agirlik / (boy**boy)\n",
        "\n",
        "if BKI > 30:\n",
        "    print(f\"{BKI} Obez.\")\n",
        "elif BKI >= 25 and BKI < 30 :\n",
        "    print(f\"{BKI} Fazla Kilolu.\")\n",
        "elif BKI >= 18.5 and BKI < 25 :\n",
        "    print(f\"{BKI} Normal.\")\n",
        "else :\n",
        "    print(f\"{BKI} Zayif.\")        "
      ]
    },
    {
      "cell_type": "markdown",
      "metadata": {
        "id": "oFsvQyaO_Te-"
      },
      "source": [
        "# Problem 6\n",
        "Kullanıcıdan isim, yaş ve eğitim bilgilerini isteyip ehliyet alabilme  durumunu kontrol ediniz. \n",
        "\n",
        "Ehliyet alma koşulu en az 18 yaşında ve eğitim durumu lise ya da üniversite olmalıdır. "
      ]
    },
    {
      "cell_type": "code",
      "execution_count": 55,
      "metadata": {
        "id": "Tu2mcgco_Te-"
      },
      "outputs": [
        {
          "name": "stdout",
          "output_type": "stream",
          "text": [
            "Ehliyet alabilir.\n"
          ]
        }
      ],
      "source": [
        "# 6.Problemin Çözümünü Buraya Yazınız\n",
        "\n",
        "isim = input(\"Isminizi giriniz.\")\n",
        "yas = int(input(\"Yasinizi giriniz.\"))\n",
        "Lise = \"Lise\"\n",
        "Universite = \"Universite\"\n",
        "egitim = input(\"Egitim duzeyi Lise veya Universite.\")\n",
        "\n",
        "if   ( yas >= 18 and egitim==Lise ) or ( yas >= 18 and egitim==Universite ):\n",
        "    print(\"Ehliyet alabilir.\")\n",
        "else:\n",
        "    print(\"Ehliyet alamaz\")\n"
      ]
    },
    {
      "cell_type": "markdown",
      "metadata": {
        "id": "eUkxVSAE_Te_"
      },
      "source": [
        "# Problem 7\n",
        "Bir yılın artık yıl olup olmadığını kontrol etmek için bir program yazın. \n",
        "Artık yıl kuralı:\n",
        "\n",
        "a) Eğer yılın son iki basamağı (00) ile bitmiyor ve yalnızca 4'e tam bölünüyorsa artık yıldır. Ya da, \n",
        "\n",
        "b) Eğer yıl 400'e tam bölünüyorsa artık yıldır.\n",
        "\n",
        "**Örneğin**\n",
        "```\n",
        "2017 artık yıl değildir.\n",
        "1900 artık yıl değildir\n",
        "2012 artık yıldır.\n",
        "2000 artık yıldır.\n",
        "```"
      ]
    },
    {
      "cell_type": "code",
      "execution_count": 112,
      "metadata": {
        "id": "4uWh8qUL_Te_"
      },
      "outputs": [
        {
          "name": "stdout",
          "output_type": "stream",
          "text": [
            "2000 artik yildir\n"
          ]
        }
      ],
      "source": [
        "# 7.Problemin Çözümünü Buraya Yazınız\n",
        "\n",
        "yil = int(input(\"Yili giriniz\"))\n",
        "binlerbasamagi = yil / 1000;\n",
        "sonikibasamak = ( yil - (binlerbasamagi*1000) ) / 100 #son iki basamağın 00 olup olmadığını kontrol ediyoruz.\n",
        "dort = yil / 4 # 4 ile bolunebildiğine baktık.\n",
        "dortyuz = yil / 400 \n",
        "\n",
        "\n",
        "if  ( sonikibasamak % 1 == 0   and  dort % 4 == 0 )  or ( dortyuz % 1 == 0 ) :\n",
        "    print(f\"{yil} artik yildir\")\n",
        "else:\n",
        "    print(f\"{yil} artik yil degildir\")\n"
      ]
    }
  ],
  "metadata": {
    "colab": {
      "provenance": []
    },
    "kernelspec": {
      "display_name": "Python 3.10.5 64-bit",
      "language": "python",
      "name": "python3"
    },
    "language_info": {
      "codemirror_mode": {
        "name": "ipython",
        "version": 3
      },
      "file_extension": ".py",
      "mimetype": "text/x-python",
      "name": "python",
      "nbconvert_exporter": "python",
      "pygments_lexer": "ipython3",
      "version": "3.11.0"
    },
    "orig_nbformat": 4,
    "vscode": {
      "interpreter": {
        "hash": "5026d2d6e7aaaaba093def813beadff083d8733e4a511af01735cbabd156995d"
      }
    }
  },
  "nbformat": 4,
  "nbformat_minor": 0
}
